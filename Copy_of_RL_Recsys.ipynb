{
  "nbformat": 4,
  "nbformat_minor": 0,
  "metadata": {
    "colab": {
      "provenance": []
    },
    "kernelspec": {
      "name": "python3",
      "display_name": "Python 3"
    },
    "language_info": {
      "name": "python"
    }
  },
  "cells": [
    {
      "cell_type": "code",
      "source": [
        "!pip install -q recsim"
      ],
      "metadata": {
        "id": "HNdIB4vrV9A6",
        "colab": {
          "base_uri": "https://localhost:8080/"
        },
        "outputId": "b112e437-9686-4ebf-dd88-6dc0327c3823"
      },
      "execution_count": 3,
      "outputs": [
        {
          "output_type": "stream",
          "name": "stdout",
          "text": [
            "\u001b[?25l     \u001b[90m━━━━━━━━━━━━━━━━━━━━━━━━━━━━━━━━━━━━━━━━\u001b[0m \u001b[32m0.0/66.0 kB\u001b[0m \u001b[31m?\u001b[0m eta \u001b[36m-:--:--\u001b[0m\r\u001b[2K     \u001b[90m━━━━━━━━━━━━━━━━━━━━━━━━━━━━━━━━━━━━━━━━\u001b[0m \u001b[32m66.0/66.0 kB\u001b[0m \u001b[31m2.0 MB/s\u001b[0m eta \u001b[36m0:00:00\u001b[0m\n",
            "\u001b[?25h  Preparing metadata (setup.py) ... \u001b[?25l\u001b[?25hdone\n",
            "  Building wheel for recsim (setup.py) ... \u001b[?25l\u001b[?25hdone\n"
          ]
        }
      ]
    },
    {
      "cell_type": "code",
      "execution_count": 4,
      "metadata": {
        "id": "QdDLjty2VtMs",
        "colab": {
          "base_uri": "https://localhost:8080/"
        },
        "outputId": "a9b2000e-a11e-4140-f973-fd7c50bd9328"
      },
      "outputs": [
        {
          "output_type": "stream",
          "name": "stderr",
          "text": [
            "/usr/local/lib/python3.10/dist-packages/gin/tf/__init__.py:48: DeprecationWarning: distutils Version classes are deprecated. Use packaging.version instead.\n",
            "  if (distutils.version.LooseVersion(tf.__version__) <\n"
          ]
        }
      ],
      "source": [
        "import gym\n",
        "from recsim import document\n",
        "from recsim.choice_model import MultinomialLogitChoiceModel\n",
        "from recsim.simulator import environment\n",
        "from recsim.simulator import recsim_gym"
      ]
    },
    {
      "cell_type": "code",
      "source": [
        "import pandas as pd\n",
        "import numpy as np\n",
        "from datetime import datetime\n",
        "from geopy.geocoders import Nominatim\n",
        "from math import radians, sin, cos, sqrt, atan2"
      ],
      "metadata": {
        "id": "yTMHH5AXV1_t",
        "colab": {
          "base_uri": "https://localhost:8080/"
        },
        "outputId": "b21e0249-7b57-498a-ec88-da136a933f42"
      },
      "execution_count": 5,
      "outputs": [
        {
          "output_type": "stream",
          "name": "stderr",
          "text": [
            "/usr/local/lib/python3.10/dist-packages/ipykernel/ipkernel.py:283: DeprecationWarning: `should_run_async` will not call `transform_cell` automatically in the future. Please pass the result to `transformed_cell` argument and any exception that happen during thetransform in `preprocessing_exc_tuple` in IPython 7.17 and above.\n",
            "  and should_run_async(code)\n"
          ]
        }
      ]
    },
    {
      "cell_type": "code",
      "source": [
        "tourist_spots_data = pd.read_csv(\"data.csv\")\n",
        "tourist_spots_data"
      ],
      "metadata": {
        "colab": {
          "base_uri": "https://localhost:8080/",
          "height": 304
        },
        "id": "q6L8SfUS4i6s",
        "outputId": "64f78cfb-a05e-4008-bf75-03cba9c3159e"
      },
      "execution_count": 6,
      "outputs": [
        {
          "output_type": "error",
          "ename": "FileNotFoundError",
          "evalue": "[Errno 2] No such file or directory: 'data.csv'",
          "traceback": [
            "\u001b[0;31m---------------------------------------------------------------------------\u001b[0m",
            "\u001b[0;31mFileNotFoundError\u001b[0m                         Traceback (most recent call last)",
            "\u001b[0;32m<ipython-input-6-109e030390b0>\u001b[0m in \u001b[0;36m<cell line: 1>\u001b[0;34m()\u001b[0m\n\u001b[0;32m----> 1\u001b[0;31m \u001b[0mtourist_spots_data\u001b[0m \u001b[0;34m=\u001b[0m \u001b[0mpd\u001b[0m\u001b[0;34m.\u001b[0m\u001b[0mread_csv\u001b[0m\u001b[0;34m(\u001b[0m\u001b[0;34m\"data.csv\"\u001b[0m\u001b[0;34m)\u001b[0m\u001b[0;34m\u001b[0m\u001b[0;34m\u001b[0m\u001b[0m\n\u001b[0m\u001b[1;32m      2\u001b[0m \u001b[0mtourist_spots_data\u001b[0m\u001b[0;34m\u001b[0m\u001b[0;34m\u001b[0m\u001b[0m\n",
            "\u001b[0;32m/usr/local/lib/python3.10/dist-packages/pandas/util/_decorators.py\u001b[0m in \u001b[0;36mwrapper\u001b[0;34m(*args, **kwargs)\u001b[0m\n\u001b[1;32m    209\u001b[0m                 \u001b[0;32melse\u001b[0m\u001b[0;34m:\u001b[0m\u001b[0;34m\u001b[0m\u001b[0;34m\u001b[0m\u001b[0m\n\u001b[1;32m    210\u001b[0m                     \u001b[0mkwargs\u001b[0m\u001b[0;34m[\u001b[0m\u001b[0mnew_arg_name\u001b[0m\u001b[0;34m]\u001b[0m \u001b[0;34m=\u001b[0m \u001b[0mnew_arg_value\u001b[0m\u001b[0;34m\u001b[0m\u001b[0;34m\u001b[0m\u001b[0m\n\u001b[0;32m--> 211\u001b[0;31m             \u001b[0;32mreturn\u001b[0m \u001b[0mfunc\u001b[0m\u001b[0;34m(\u001b[0m\u001b[0;34m*\u001b[0m\u001b[0margs\u001b[0m\u001b[0;34m,\u001b[0m \u001b[0;34m**\u001b[0m\u001b[0mkwargs\u001b[0m\u001b[0;34m)\u001b[0m\u001b[0;34m\u001b[0m\u001b[0;34m\u001b[0m\u001b[0m\n\u001b[0m\u001b[1;32m    212\u001b[0m \u001b[0;34m\u001b[0m\u001b[0m\n\u001b[1;32m    213\u001b[0m         \u001b[0;32mreturn\u001b[0m \u001b[0mcast\u001b[0m\u001b[0;34m(\u001b[0m\u001b[0mF\u001b[0m\u001b[0;34m,\u001b[0m \u001b[0mwrapper\u001b[0m\u001b[0;34m)\u001b[0m\u001b[0;34m\u001b[0m\u001b[0;34m\u001b[0m\u001b[0m\n",
            "\u001b[0;32m/usr/local/lib/python3.10/dist-packages/pandas/util/_decorators.py\u001b[0m in \u001b[0;36mwrapper\u001b[0;34m(*args, **kwargs)\u001b[0m\n\u001b[1;32m    329\u001b[0m                     \u001b[0mstacklevel\u001b[0m\u001b[0;34m=\u001b[0m\u001b[0mfind_stack_level\u001b[0m\u001b[0;34m(\u001b[0m\u001b[0;34m)\u001b[0m\u001b[0;34m,\u001b[0m\u001b[0;34m\u001b[0m\u001b[0;34m\u001b[0m\u001b[0m\n\u001b[1;32m    330\u001b[0m                 )\n\u001b[0;32m--> 331\u001b[0;31m             \u001b[0;32mreturn\u001b[0m \u001b[0mfunc\u001b[0m\u001b[0;34m(\u001b[0m\u001b[0;34m*\u001b[0m\u001b[0margs\u001b[0m\u001b[0;34m,\u001b[0m \u001b[0;34m**\u001b[0m\u001b[0mkwargs\u001b[0m\u001b[0;34m)\u001b[0m\u001b[0;34m\u001b[0m\u001b[0;34m\u001b[0m\u001b[0m\n\u001b[0m\u001b[1;32m    332\u001b[0m \u001b[0;34m\u001b[0m\u001b[0m\n\u001b[1;32m    333\u001b[0m         \u001b[0;31m# error: \"Callable[[VarArg(Any), KwArg(Any)], Any]\" has no\u001b[0m\u001b[0;34m\u001b[0m\u001b[0;34m\u001b[0m\u001b[0m\n",
            "\u001b[0;32m/usr/local/lib/python3.10/dist-packages/pandas/io/parsers/readers.py\u001b[0m in \u001b[0;36mread_csv\u001b[0;34m(filepath_or_buffer, sep, delimiter, header, names, index_col, usecols, squeeze, prefix, mangle_dupe_cols, dtype, engine, converters, true_values, false_values, skipinitialspace, skiprows, skipfooter, nrows, na_values, keep_default_na, na_filter, verbose, skip_blank_lines, parse_dates, infer_datetime_format, keep_date_col, date_parser, dayfirst, cache_dates, iterator, chunksize, compression, thousands, decimal, lineterminator, quotechar, quoting, doublequote, escapechar, comment, encoding, encoding_errors, dialect, error_bad_lines, warn_bad_lines, on_bad_lines, delim_whitespace, low_memory, memory_map, float_precision, storage_options)\u001b[0m\n\u001b[1;32m    948\u001b[0m     \u001b[0mkwds\u001b[0m\u001b[0;34m.\u001b[0m\u001b[0mupdate\u001b[0m\u001b[0;34m(\u001b[0m\u001b[0mkwds_defaults\u001b[0m\u001b[0;34m)\u001b[0m\u001b[0;34m\u001b[0m\u001b[0;34m\u001b[0m\u001b[0m\n\u001b[1;32m    949\u001b[0m \u001b[0;34m\u001b[0m\u001b[0m\n\u001b[0;32m--> 950\u001b[0;31m     \u001b[0;32mreturn\u001b[0m \u001b[0m_read\u001b[0m\u001b[0;34m(\u001b[0m\u001b[0mfilepath_or_buffer\u001b[0m\u001b[0;34m,\u001b[0m \u001b[0mkwds\u001b[0m\u001b[0;34m)\u001b[0m\u001b[0;34m\u001b[0m\u001b[0;34m\u001b[0m\u001b[0m\n\u001b[0m\u001b[1;32m    951\u001b[0m \u001b[0;34m\u001b[0m\u001b[0m\n\u001b[1;32m    952\u001b[0m \u001b[0;34m\u001b[0m\u001b[0m\n",
            "\u001b[0;32m/usr/local/lib/python3.10/dist-packages/pandas/io/parsers/readers.py\u001b[0m in \u001b[0;36m_read\u001b[0;34m(filepath_or_buffer, kwds)\u001b[0m\n\u001b[1;32m    603\u001b[0m \u001b[0;34m\u001b[0m\u001b[0m\n\u001b[1;32m    604\u001b[0m     \u001b[0;31m# Create the parser.\u001b[0m\u001b[0;34m\u001b[0m\u001b[0;34m\u001b[0m\u001b[0m\n\u001b[0;32m--> 605\u001b[0;31m     \u001b[0mparser\u001b[0m \u001b[0;34m=\u001b[0m \u001b[0mTextFileReader\u001b[0m\u001b[0;34m(\u001b[0m\u001b[0mfilepath_or_buffer\u001b[0m\u001b[0;34m,\u001b[0m \u001b[0;34m**\u001b[0m\u001b[0mkwds\u001b[0m\u001b[0;34m)\u001b[0m\u001b[0;34m\u001b[0m\u001b[0;34m\u001b[0m\u001b[0m\n\u001b[0m\u001b[1;32m    606\u001b[0m \u001b[0;34m\u001b[0m\u001b[0m\n\u001b[1;32m    607\u001b[0m     \u001b[0;32mif\u001b[0m \u001b[0mchunksize\u001b[0m \u001b[0;32mor\u001b[0m \u001b[0miterator\u001b[0m\u001b[0;34m:\u001b[0m\u001b[0;34m\u001b[0m\u001b[0;34m\u001b[0m\u001b[0m\n",
            "\u001b[0;32m/usr/local/lib/python3.10/dist-packages/pandas/io/parsers/readers.py\u001b[0m in \u001b[0;36m__init__\u001b[0;34m(self, f, engine, **kwds)\u001b[0m\n\u001b[1;32m   1440\u001b[0m \u001b[0;34m\u001b[0m\u001b[0m\n\u001b[1;32m   1441\u001b[0m         \u001b[0mself\u001b[0m\u001b[0;34m.\u001b[0m\u001b[0mhandles\u001b[0m\u001b[0;34m:\u001b[0m \u001b[0mIOHandles\u001b[0m \u001b[0;34m|\u001b[0m \u001b[0;32mNone\u001b[0m \u001b[0;34m=\u001b[0m \u001b[0;32mNone\u001b[0m\u001b[0;34m\u001b[0m\u001b[0;34m\u001b[0m\u001b[0m\n\u001b[0;32m-> 1442\u001b[0;31m         \u001b[0mself\u001b[0m\u001b[0;34m.\u001b[0m\u001b[0m_engine\u001b[0m \u001b[0;34m=\u001b[0m \u001b[0mself\u001b[0m\u001b[0;34m.\u001b[0m\u001b[0m_make_engine\u001b[0m\u001b[0;34m(\u001b[0m\u001b[0mf\u001b[0m\u001b[0;34m,\u001b[0m \u001b[0mself\u001b[0m\u001b[0;34m.\u001b[0m\u001b[0mengine\u001b[0m\u001b[0;34m)\u001b[0m\u001b[0;34m\u001b[0m\u001b[0;34m\u001b[0m\u001b[0m\n\u001b[0m\u001b[1;32m   1443\u001b[0m \u001b[0;34m\u001b[0m\u001b[0m\n\u001b[1;32m   1444\u001b[0m     \u001b[0;32mdef\u001b[0m \u001b[0mclose\u001b[0m\u001b[0;34m(\u001b[0m\u001b[0mself\u001b[0m\u001b[0;34m)\u001b[0m \u001b[0;34m->\u001b[0m \u001b[0;32mNone\u001b[0m\u001b[0;34m:\u001b[0m\u001b[0;34m\u001b[0m\u001b[0;34m\u001b[0m\u001b[0m\n",
            "\u001b[0;32m/usr/local/lib/python3.10/dist-packages/pandas/io/parsers/readers.py\u001b[0m in \u001b[0;36m_make_engine\u001b[0;34m(self, f, engine)\u001b[0m\n\u001b[1;32m   1733\u001b[0m                 \u001b[0;32mif\u001b[0m \u001b[0;34m\"b\"\u001b[0m \u001b[0;32mnot\u001b[0m \u001b[0;32min\u001b[0m \u001b[0mmode\u001b[0m\u001b[0;34m:\u001b[0m\u001b[0;34m\u001b[0m\u001b[0;34m\u001b[0m\u001b[0m\n\u001b[1;32m   1734\u001b[0m                     \u001b[0mmode\u001b[0m \u001b[0;34m+=\u001b[0m \u001b[0;34m\"b\"\u001b[0m\u001b[0;34m\u001b[0m\u001b[0;34m\u001b[0m\u001b[0m\n\u001b[0;32m-> 1735\u001b[0;31m             self.handles = get_handle(\n\u001b[0m\u001b[1;32m   1736\u001b[0m                 \u001b[0mf\u001b[0m\u001b[0;34m,\u001b[0m\u001b[0;34m\u001b[0m\u001b[0;34m\u001b[0m\u001b[0m\n\u001b[1;32m   1737\u001b[0m                 \u001b[0mmode\u001b[0m\u001b[0;34m,\u001b[0m\u001b[0;34m\u001b[0m\u001b[0;34m\u001b[0m\u001b[0m\n",
            "\u001b[0;32m/usr/local/lib/python3.10/dist-packages/pandas/io/common.py\u001b[0m in \u001b[0;36mget_handle\u001b[0;34m(path_or_buf, mode, encoding, compression, memory_map, is_text, errors, storage_options)\u001b[0m\n\u001b[1;32m    854\u001b[0m         \u001b[0;32mif\u001b[0m \u001b[0mioargs\u001b[0m\u001b[0;34m.\u001b[0m\u001b[0mencoding\u001b[0m \u001b[0;32mand\u001b[0m \u001b[0;34m\"b\"\u001b[0m \u001b[0;32mnot\u001b[0m \u001b[0;32min\u001b[0m \u001b[0mioargs\u001b[0m\u001b[0;34m.\u001b[0m\u001b[0mmode\u001b[0m\u001b[0;34m:\u001b[0m\u001b[0;34m\u001b[0m\u001b[0;34m\u001b[0m\u001b[0m\n\u001b[1;32m    855\u001b[0m             \u001b[0;31m# Encoding\u001b[0m\u001b[0;34m\u001b[0m\u001b[0;34m\u001b[0m\u001b[0m\n\u001b[0;32m--> 856\u001b[0;31m             handle = open(\n\u001b[0m\u001b[1;32m    857\u001b[0m                 \u001b[0mhandle\u001b[0m\u001b[0;34m,\u001b[0m\u001b[0;34m\u001b[0m\u001b[0;34m\u001b[0m\u001b[0m\n\u001b[1;32m    858\u001b[0m                 \u001b[0mioargs\u001b[0m\u001b[0;34m.\u001b[0m\u001b[0mmode\u001b[0m\u001b[0;34m,\u001b[0m\u001b[0;34m\u001b[0m\u001b[0;34m\u001b[0m\u001b[0m\n",
            "\u001b[0;31mFileNotFoundError\u001b[0m: [Errno 2] No such file or directory: 'data.csv'"
          ]
        }
      ]
    },
    {
      "cell_type": "code",
      "source": [
        "#tourist_spots_data['Opening Time'] = pd.to_datetime(tourist_spots_data['Opening Time']).dt.time\n",
        "#tourist_spots_data['Closing Time'] = pd.to_datetime(tourist_spots_data['Closing Time']).dt.time\n",
        "#tourist_spots_data"
      ],
      "metadata": {
        "id": "3InA7JNl65Cp"
      },
      "execution_count": null,
      "outputs": []
    },
    {
      "cell_type": "code",
      "source": [
        "tourist_spots_data.info()"
      ],
      "metadata": {
        "id": "Yw6nXNYTHcCT"
      },
      "execution_count": null,
      "outputs": []
    },
    {
      "cell_type": "code",
      "source": [
        "tourist_spots_data['Budget (INR)'] = tourist_spots_data['Budget (INR)'].astype(int)\n",
        "tourist_spots_data.info()"
      ],
      "metadata": {
        "id": "ssBzGwTPHiFS"
      },
      "execution_count": null,
      "outputs": []
    },
    {
      "cell_type": "code",
      "source": [
        "feedback_data = pd.read_csv('feedback.csv')\n",
        "feedback_data"
      ],
      "metadata": {
        "id": "0nf6k06OFUbT"
      },
      "execution_count": null,
      "outputs": []
    },
    {
      "cell_type": "code",
      "source": [
        "feedback_data.info()"
      ],
      "metadata": {
        "id": "_lCca-yiJ2Ws"
      },
      "execution_count": null,
      "outputs": []
    },
    {
      "cell_type": "code",
      "source": [
        "tourist_spots_data['City'].unique()"
      ],
      "metadata": {
        "id": "WFbUkTnMCV7G"
      },
      "execution_count": null,
      "outputs": []
    },
    {
      "cell_type": "code",
      "source": [
        "def get_location_coordinates(location_name):\n",
        "    loc = Nominatim(user_agent=\"GetLoc\")\n",
        "    get_loc = loc.geocode(location_name)\n",
        "    return get_loc.latitude, get_loc.longitude"
      ],
      "metadata": {
        "id": "M4temaCX4sVQ"
      },
      "execution_count": null,
      "outputs": []
    },
    {
      "cell_type": "code",
      "source": [
        "def calculate_distance(lat1, lon1, lat2, lon2):\n",
        "    lat1_rad = radians(lat1)\n",
        "    lon1_rad = radians(lon1)\n",
        "    lat2_rad = radians(lat2)\n",
        "    lon2_rad = radians(lon2)\n",
        "\n",
        "    R = 6371.0\n",
        "\n",
        "    dlat = lat2_rad - lat1_rad\n",
        "    dlon = lon2_rad - lon1_rad\n",
        "\n",
        "    a = sin(dlat / 2)**2 + cos(lat1_rad) * cos(lat2_rad) * sin(dlon / 2)**2\n",
        "    c = 2 * atan2(sqrt(a), sqrt(1 - a))\n",
        "    distance = R * c\n",
        "\n",
        "    return distance\n"
      ],
      "metadata": {
        "id": "xT7xMl8P409D"
      },
      "execution_count": null,
      "outputs": []
    },
    {
      "cell_type": "code",
      "source": [
        "def store_feedback(user_id, place, feedback, rating, date):\n",
        "    feedback_data = pd.DataFrame({\n",
        "        'user_id': [user_id],\n",
        "        'place': [place],\n",
        "        'feedback': [feedback],\n",
        "        'rating': [rating],\n",
        "        'date_of_feedback': [date]\n",
        "    })\n",
        "    feedback_data.to_csv(\"feedback.csv\", mode='a', header=False, index=False)"
      ],
      "metadata": {
        "id": "vqkKSwio5aeZ"
      },
      "execution_count": null,
      "outputs": []
    },
    {
      "cell_type": "code",
      "source": [
        "datetime.now().time()"
      ],
      "metadata": {
        "id": "Hk4xEIDKI1SO"
      },
      "execution_count": null,
      "outputs": []
    },
    {
      "cell_type": "code",
      "source": [
        "import gym\n",
        "import pandas as pd\n",
        "from datetime import datetime\n",
        "from geopy.distance import geodesic\n",
        "\n",
        "class TravelEnv(gym.Env):\n",
        "    def __init__(self, tourist_spots_data):\n",
        "        super(TravelEnv, self).__init__()\n",
        "        self.tourist_spots_data = tourist_spots_data\n",
        "        self.current_state = None\n",
        "        self.done = False\n",
        "        self.user_budget = None\n",
        "        self.visited_spots = []\n",
        "\n",
        "    def step(self, action):\n",
        "        recommended_spot = self.tourist_spots_data.iloc[action]\n",
        "        spot_name = recommended_spot['Tourist Spot']\n",
        "        spot_lat = recommended_spot['Location Lat']\n",
        "        spot_lon = recommended_spot['Location Long']\n",
        "        spot_distance = self.calculate_distance(spot_lat, spot_lon)\n",
        "\n",
        "        # Check if the recommended spot has already been visited\n",
        "        if spot_name in self.visited_spots:\n",
        "            reward = -0.1  # Penalty for revisiting a spot\n",
        "        else:\n",
        "            # Calculate reward based on distance and budget\n",
        "            reward = self.calculate_reward(spot_distance)\n",
        "            self.visited_spots.append(spot_name)\n",
        "\n",
        "        # Update user budget\n",
        "        self.user_budget -= recommended_spot['Budget (INR)']\n",
        "\n",
        "        # Check if episode is done (e.g., user reaches the budget limit)\n",
        "        if self.user_budget <= 0:\n",
        "            self.done = True\n",
        "\n",
        "        return self.current_state, reward, self.done, {}\n",
        "\n",
        "    def reset(self, user_id, location, budget):\n",
        "        self.user_id = user_id\n",
        "        self.user_budget = budget\n",
        "        self.visited_spots = []\n",
        "        self.current_state = location\n",
        "        self.done = False\n",
        "        return self.current_state\n",
        "\n",
        "    def calculate_distance(self, spot_lat, spot_lon):\n",
        "        # Calculate distance between user's location and spot's location\n",
        "        user_location = (self.current_state[0], self.current_state[1])\n",
        "        spot_location = (spot_lat, spot_lon)\n",
        "        return geodesic(user_location, spot_location).kilometers\n",
        "\n",
        "    def calculate_reward(self, distance):\n",
        "        # Simple reward system: inverse of distance\n",
        "        return 1 / distance if distance > 0 else 0"
      ],
      "metadata": {
        "id": "_UlOAgWu5ndO"
      },
      "execution_count": 1,
      "outputs": []
    },
    {
      "cell_type": "code",
      "source": [
        "def get_recommendation(user_id, place, budget, tourist_spots_data, user_feedback):\n",
        "\n",
        "    # Check if the user has any previous feedback\n",
        "    user_history = user_feedback[user_feedback['user_id'] == user_id]\n",
        "    user_has_history = not user_history.empty\n",
        "\n",
        "    # Filter tourist spots based on location\n",
        "    place_filtered = tourist_spots_data[tourist_spots_data['City'] == place]\n",
        "\n",
        "    # Filter spots based on budget\n",
        "    affordable_spots = place_filtered[place_filtered['Budget (INR)'].astype(int) <= budget]\n",
        "\n",
        "    # Filter spots based on opening hours\n",
        "    current_time = datetime.now().time()\n",
        "    open_spots = affordable_spots[affordable_spots.apply(lambda x:\n",
        "                                                        datetime.strptime(x['Opening Time'], \"%H:%M:%S\").time() <= current_time <= datetime.strptime(x['Closing Time'], \"%H:%M:%S\").time(), axis=1)]\n",
        "\n",
        "\n",
        "    if user_has_history:\n",
        "        # Merge user's history with feedback from other users\n",
        "        all_feedback = pd.merge(user_feedback, user_history, how='outer')\n",
        "        feedback_scores = all_feedback.groupby('tourist_spot')['rating'].mean()\n",
        "        recommended_spots = open_spots.merge(feedback_scores, left_on='Tourist Spot', right_index=True, how='left')\n",
        "        recommended_spots = recommended_spots.sort_values(by='rating', ascending=False)\n",
        "    else:\n",
        "        # If user is new, recommend based on overall ratings\n",
        "        recommended_spots = open_spots.sort_values(by='rating', ascending=False)\n",
        "\n",
        "\n",
        "    if not recommended_spots.empty:\n",
        "        top_recommendation = recommended_spots.iloc[0]['Tourist Spot']\n",
        "        return top_recommendation\n",
        "    else:\n",
        "        return \"No recommendations available within your budget and location.\"\n"
      ],
      "metadata": {
        "id": "zWbht_J9598z",
        "colab": {
          "base_uri": "https://localhost:8080/"
        },
        "outputId": "8bc86a24-edc6-4cb9-f3bd-5c007d769979"
      },
      "execution_count": 2,
      "outputs": [
        {
          "output_type": "stream",
          "name": "stderr",
          "text": [
            "/usr/local/lib/python3.10/dist-packages/ipykernel/ipkernel.py:283: DeprecationWarning: `should_run_async` will not call `transform_cell` automatically in the future. Please pass the result to `transformed_cell` argument and any exception that happen during thetransform in `preprocessing_exc_tuple` in IPython 7.17 and above.\n",
            "  and should_run_async(code)\n"
          ]
        }
      ]
    },
    {
      "cell_type": "code",
      "source": [
        "def main():\n",
        "    # Initialize environment and other components\n",
        "    env = TravelEnv(tourist_spots_data)\n",
        "    choice_features = {\n",
        "          \"Tourist Spot\": 0,\n",
        "          \"City\": 1,\n",
        "          \"Location Lat\": 2,\n",
        "          \"Location Long\": 3,\n",
        "          \"Budget (INR)\": 4,\n",
        "          \"Opening Time\": 5,\n",
        "          \"Closing Time\": 6\n",
        "      }\n",
        "    choice_model = MultinomialLogitChoiceModel(choice_features)\n",
        "    doc = document.AbstractDocument\n",
        "    recsim_env = recsim_gym.RecSimGymEnv(env, choice_model, doc)\n",
        "\n",
        "    user_id = int(input(\"Enter user ID: \"))\n",
        "    location = (float(input(\"Enter latitude: \")), float(input(\"Enter longitude: \")))\n",
        "    budget = float(input(\"Enter budget (INR): \"))\n",
        "    recommendation = get_recommendation(user_id, place, budget, tourist_spots_data, feedback_data)\n",
        "\n",
        "    # Reset environment with user's details\n",
        "    observation = env.reset(user_id, location, budget)\n",
        "\n",
        "    total_reward = 0\n",
        "    while not env.done:\n",
        "        # Perform a step in the environment with the recommended spot\n",
        "        observation, reward, done, _ = env.step(recommendation)\n",
        "        total_reward += reward\n",
        "\n",
        "        # Get the next recommendation\n",
        "        recommendation = get_recommendation(user_id, place, budget, tourist_spots_data, feedback_data)\n",
        "\n",
        "    print(\"Total reward:\", total_reward)\n",
        "\n",
        "if __name__ == \"__main__\":\n",
        "    main()"
      ],
      "metadata": {
        "id": "ItKzZuxHPpHw"
      },
      "execution_count": null,
      "outputs": []
    },
    {
      "cell_type": "code",
      "source": [],
      "metadata": {
        "id": "TPug9uMq5_J_"
      },
      "execution_count": 2,
      "outputs": []
    },
    {
      "cell_type": "code",
      "source": [],
      "metadata": {
        "id": "w4gORRYrS6ta"
      },
      "execution_count": null,
      "outputs": []
    },
    {
      "cell_type": "code",
      "source": [],
      "metadata": {
        "id": "QFBZQEKuS6qN"
      },
      "execution_count": null,
      "outputs": []
    },
    {
      "cell_type": "code",
      "source": [
        "import numpy as np\n",
        "import pandas as pd\n",
        "import tensorflow as tf\n",
        "import recsim\n",
        "from recsim import document\n",
        "from recsim import user\n",
        "from recsim.choice_model import MultinomialLogitChoiceModel\n",
        "\n",
        "# Load your custom dataset\n",
        "data = pd.read_csv('data.csv')\n",
        "\n",
        "choice_features = {\n",
        "        \"Tourist Spot\": 0,\n",
        "        \"City\": 1,\n",
        "        \"Location Lat\": 2,\n",
        "        \"Location Long\": 3,\n",
        "        \"Budget (INR)\": 4,\n",
        "        \"Opening Time\": 5,\n",
        "        \"Closing Time\": 6\n",
        "    }\n",
        "\n",
        "# Define user model\n",
        "# Using GruUserModel with MultinomialLogitChoiceModel for demonstration\n",
        "user_model = user.AbstractUserModel(\n",
        "    candidate_embedding_dim=32,  # Dimensionality of candidate embeddings\n",
        "    gru_hidden_dim=64,  # Dimensionality of GRU hidden states\n",
        "    vocab_size=len(data),  # Size of the vocabulary (number of unique items)\n",
        "    num_candidates=len(data),  # Number of candidate items\n",
        "    num_features=10,  # Number of features per item\n",
        "    choice_model=MultinomialLogitChoiceModel(choice_features)\n",
        ")\n",
        "\n",
        "\n",
        "# Define candidate generator\n",
        "candidate_gen = document.StaticDocumentSampler(\n",
        "    num_candidates=len(data),\n",
        "    items=data.values.tolist(),\n",
        "    doc_weights=np.ones(len(data))\n",
        ")\n",
        "\n",
        "# Define recommender\n",
        "class LinearRecommender(tf.keras.Model):\n",
        "    def __init__(self):\n",
        "        super(LinearRecommender, self).__init__()\n",
        "        self.dense = tf.keras.layers.Dense(1)\n",
        "\n",
        "    def call(self, inputs):\n",
        "        return self.dense(inputs)\n",
        "\n",
        "recommender = LinearRecommender()\n",
        "\n",
        "# Define reward function\n",
        "# You may need to customize this function based on your dataset and recommendation goals\n",
        "def reward_fn(doc_obs, user_obs, prev_user_obs):\n",
        "    # Calculate the reward based on user clicks and document relevance\n",
        "    click = user_obs['click']  # User click observation\n",
        "    relevance = doc_obs['relevance']  # Document relevance observation\n",
        "\n",
        "    # Compute the reward as the sum of clicks multiplied by relevance\n",
        "    # You may also want to add a scaling factor or other adjustments as needed\n",
        "    reward = tf.reduce_sum(click * relevance)\n",
        "\n",
        "    return reward\n",
        "\n",
        "# Define environment\n",
        "environment = recsim.environment.Environment(\n",
        "    user_model=user_model,\n",
        "    candidate_sampler=candidate_gen,\n",
        "    doc_sampler=candidate_gen,\n",
        "    recommender=recommender,\n",
        "    reward_fn=reward_fn\n",
        ")\n",
        "\n",
        "# Train the environment\n",
        "num_episodes = 1000\n",
        "batch_size = 32\n",
        "\n",
        "optimizer = tf.keras.optimizers.Adam(learning_rate=0.001)\n",
        "\n",
        "for episode in range(num_episodes):\n",
        "    user_history, doc_obs, _, _ = environment.reset(num_users)\n",
        "    user_features = user_history[:, :, 'features']\n",
        "\n",
        "    for _ in range(batch_size):\n",
        "        with tf.GradientTape() as tape:\n",
        "            recommendations = recommender(user_features)\n",
        "            chosen_docs = environment.step(recommendations.numpy())\n",
        "\n",
        "            # Compute reward\n",
        "            reward = reward_fn(doc_obs, user_history[:, :, 'click'], None)\n",
        "\n",
        "            # Compute loss (for demonstration purposes, using mean squared error)\n",
        "            loss = tf.reduce_mean(tf.square(reward - chosen_docs))\n",
        "\n",
        "        # Update model parameters\n",
        "        gradients = tape.gradient(loss, recommender.trainable_variables)\n",
        "        optimizer.apply_gradients(zip(gradients, recommender.trainable_variables))\n",
        "\n",
        "# Evaluate the trained model\n",
        "# For simplicity, let's assume we want to evaluate the model's performance by calculating the mean reward over a number of episodes\n",
        "num_evaluation_episodes = 100\n",
        "total_rewards = []\n",
        "\n",
        "for _ in range(num_evaluation_episodes):\n",
        "    user_history, doc_obs, _, _ = environment.reset(num_users)\n",
        "    user_features = user_history[:, :, 'features']\n",
        "\n",
        "    episode_reward = 0\n",
        "\n",
        "    for _ in range(batch_size):\n",
        "        recommendations = recommender(user_features)\n",
        "        chosen_docs = environment.step(recommendations.numpy())\n",
        "        episode_reward += tf.reduce_sum(chosen_docs)\n",
        "\n",
        "    total_rewards.append(episode_reward)\n",
        "\n",
        "mean_reward = tf.reduce_mean(total_rewards)\n",
        "print(\"Mean Reward:\", mean_reward.numpy())\n"
      ],
      "metadata": {
        "id": "gBFwU9CpZ-v8"
      },
      "execution_count": null,
      "outputs": []
    },
    {
      "cell_type": "code",
      "source": [
        "''"
      ],
      "metadata": {
        "id": "QO3v8OEDahF-"
      },
      "execution_count": null,
      "outputs": []
    }
  ]
}